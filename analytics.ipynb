{
 "cells": [
  {
   "cell_type": "code",
   "execution_count": 1,
   "metadata": {},
   "outputs": [],
   "source": [
    "import pandas as pd\n",
    "import numpy as np\n",
    "import seaborn as sns\n",
    "import matplotlib.pyplot as plt\n",
    "\n",
    "train = pd.read_csv('data.csv')\n",
    "test = pd.read_csv('test.csv')"
   ]
  },
  {
   "cell_type": "code",
   "execution_count": 2,
   "metadata": {},
   "outputs": [
    {
     "name": "stdout",
     "output_type": "stream",
     "text": [
      "Number of unique words in train set: 636\n",
      "Number of unique words in test set: 434\n"
     ]
    }
   ],
   "source": [
    "# message column contains a sentence of unknown words\n",
    "# find number of unique words in both train and test set\n",
    "train['message'] = train['message'].str.lower()\n",
    "test['message'] = test['message'].str.lower()\n",
    "\n",
    "unique_words_train = set()\n",
    "unique_words_test = set()\n",
    "\n",
    "for message in train['message']:\n",
    "    unique_words_train.update(message.split())\n",
    "for message in test['message']:\n",
    "    unique_words_test.update(message.split())\n",
    "\n",
    "print('Number of unique words in train set:', len(unique_words_train))\n",
    "print('Number of unique words in test set:', len(unique_words_test))"
   ]
  },
  {
   "cell_type": "code",
   "execution_count": 5,
   "metadata": {},
   "outputs": [
    {
     "name": "stdout",
     "output_type": "stream",
     "text": [
      "Words in test set that are not in train set: {'rclikum', 'cybres', 'hopiui', 'astrou', 'nexcs', 'sibenix', 'tristix', 'algocix', 'sadkx', 'codix', 'loeix', 'cfntarex', 'ffnix', 'zitanos', 'xwno', 'insoctus', 'leafoz', 'zcphyr', 'gootix', 'raghx', 'diitax', 'letax', 'vodex', 'empatpix', 'griphox', 'puksar', 'cyflopix', 'sylarix', 'eoliar', 'mermad', 'ekoq', 'techcx', 'cybrey', 'zoblax', 'cybnon', 'pbuvia', 'titagos', 'uflx', 'elrex', 'bgastix', 'sterdux', 'nexis', 'keakos', 'joyzcr', 'techit', 'genix', 'aeiana', 'unieor', 'natobyt', 'soluw', 'quatar', 'nanouom', 'srnapz', 'mechix', 'nebuxax', 'quantzz', 'metegrn', 'gulsar', 'nimbuf', 'lentus', 'ragyx', 'xryptoz', 'gleyx', 'shtmex', 'ccyptoz', 'farnar', 'pluvoa', 'dlissam', 'bvastix', 'launar', 'herea', 'sirmnix', 'shockks', 'ligitron', 'deibax', 'exos', 'ekoa', 'metmax', 'caloox', 'orbiwaz', 'zenkx', 'zofp', 'zechyr', 'shodkus', 'solbx', 'tilanos', 'weuraz', 'mwrmax', 'aeno', 'luviue', 'qcasar', 'jynapz', 'nevraz', 'ragix', 'alezom', 'eksqax', 'blissae', 'sorrowk', 'ngmpha', 'quactaz', 'rebulax', 'fanrix', 'zoyp', 'feno', 'uniior', 'solsrix', 'lorlx', 'sdardux', 'foliaj', 'meemax', 'nhvax', 'vybrex', 'fajulon', 'nimcus', 'flqraz', 'hopinm', 'zezhyr', 'celestpr', 'lorin', 'cybrou', 'cycgopix', 'lorqx', 'sirenpx', 'faeric', 'guphorix', 'geitax', 'sogax', 'jerba', 'quawar', 'flortn', 'lorcx', 'neaulax', 'wquos', 'empathzx', 'rflikum', 'terrmm', 'joypor', 'drakoo', 'feario', 'nebulae', 'rageg', 'jofzor', 'unikcr', 'ventux', 'dotax', 'brapoz', 'epvkoz', 'circgx', 'famnar', 'fuiio', 'wazeron', 'aviava', 'foliaa', 'fabugon', 'wviana', 'grykhox', 'nanoznm', 'cedestar', 'novura', 'florzn', 'leajon', 'seevod', 'xeto', 'tethnos', 'glepx', 'diogux', 'atezom', 'fabuion', 'srlux', 'dygitron', 'zefhyr', 'lvafon', 'pulxar', 'fahnar', 'cblmox', 'nyvax', 'euprorix', 'aquob', 'gobnax', 'mechas', 'evpathix', 'novrm', 'ceztarex', 'blissar', 'ticanos', 'joyzoj', 'luviuj', 'codez', 'florjn', 'qucntix', 'kraqos', 'azuos', 'disguj', 'caumox', 'ufod', 'lmgax', 'aron', 'qhamex', 'florkn', 'qredax', 'nymfha', 'faejix', 'nbbuz', 'uleex', 'eolox', 'awxius', 'petrov', 'greex', 'cyclofix', 'glvex', 'solakix', 'curio', 'starnux', 'orritaz', 'terrbm', 'faeriy', 'pulsom', 'awmzom', 'oanozom', 'cyxlopix', 'ongstix', 'quapar', 'syeapz', 'mehhan', 'drwnix', 'shamgx', 'doliar', 'kngstix', 'fakrix', 'levium', 'gkos', 'elveq', 'orbimaz', 'jelikum', 'shockuv', 'snxius', 'metevrn', 'solbrix', 'lorox', 'rootiw', 'digktron', 'solvrix', 'tochnos', 'goblux', 'cosyix', 'pulsas', 'netuz', 'frnix', 'sadax', 'algorik', 'drakes', 'bhockus', 'euphoric', 'zephyv', 'zenzx', 'titanov', 'shocbus', 'upox', 'merbax', 'faetix', 'ieastix', 'hooium', 'tulsar', 'synapn', 'magik', 'digitdon', 'regax', 'rpikoz', 'tezranix', 'iephyr', 'cyulopix', 'ubox', 'fabylon', 'pluvda', 'raerix', 'eostax', 'novaxa', 'dircux', 'bhamex', 'sirenit', 'ventuc', 'xuvium', 'shahex', 'novama', 'cjbrex', 'ykstax', 'netros', 'bcapoz', 'ksakos', 'joyzol', 'tjtanos', 'sporzoo', 'saxax', 'torp', 'xulsar', 'vuphorix', 'nympta', 'epckoz'}\n",
      "298\n"
     ]
    }
   ],
   "source": [
    "# are there any words in test set that are not in train set?\n",
    "print('Words in test set that are not in train set:', unique_words_test - unique_words_train)\n",
    "print(len(unique_words_test - unique_words_train))"
   ]
  },
  {
   "cell_type": "code",
   "execution_count": 15,
   "metadata": {},
   "outputs": [
    {
     "data": {
      "text/plain": [
       "{'plu': {'species': array(['Aquari', 'Florian'], dtype=object), 'count': 26},\n",
       " 'arb': {'species': array(['Aquari', 'Florian'], dtype=object), 'count': 18},\n",
       " 'aqu': {'species': array(['Aquari', 'Florian'], dtype=object), 'count': 16},\n",
       " 'xen': {'species': array(['Zorblax', 'Quixnar'], dtype=object), 'count': 21},\n",
       " 'neb': {'species': array(['Zorblax', 'Quixnar'], dtype=object), 'count': 55},\n",
       " 'gli': {'species': array(['Zorblax', 'Quixnar'], dtype=object), 'count': 21},\n",
       " 'nov': {'species': array(['Zorblax', 'Quixnar'], dtype=object), 'count': 61},\n",
       " 'gal': {'species': array(['Zorblax', 'Quixnar'], dtype=object), 'count': 21},\n",
       " 'ins': {'species': array(['Florian', 'Aquari'], dtype=object), 'count': 16},\n",
       " 'eko': {'species': array(['Florian', 'Aquari'], dtype=object), 'count': 16},\n",
       " 'nim': {'species': array(['Florian', 'Aquari'], dtype=object), 'count': 17},\n",
       " 'mer': {'species': array(['Faerix', 'Mythron'], dtype=object), 'count': 18},\n",
       " 'dra': {'species': array(['Faerix', 'Mythron'], dtype=object), 'count': 14},\n",
       " 'lor': {'species': array(['Faerix', 'Mythron'], dtype=object), 'count': 12},\n",
       " 'epi': {'species': array(['Faerix', 'Mythron'], dtype=object), 'count': 16},\n",
       " 'syn': {'species': array(['Nexoon', 'Cybex'], dtype=object), 'count': 20},\n",
       " 'alg': {'species': array(['Nexoon', 'Cybex'], dtype=object), 'count': 15},\n",
       " 'cry': {'species': array(['Nexoon', 'Cybex'], dtype=object), 'count': 25},\n",
       " 'dig': {'species': array(['Nexoon', 'Cybex'], dtype=object), 'count': 17},\n",
       " 'rob': {'species': array(['Nexoon', 'Cybex'], dtype=object), 'count': 25},\n",
       " 'dat': {'species': array(['Nexoon', 'Cybex'], dtype=object), 'count': 20},\n",
       " 'cyb': {'species': array(['Nexoon', 'Cybex'], dtype=object), 'count': 32},\n",
       " 'nan': {'species': array(['Nexoon', 'Cybex'], dtype=object), 'count': 34},\n",
       " 'neu': {'species': array(['Nexoon', 'Cybex'], dtype=object), 'count': 21},\n",
       " 'leg': {'species': array(['Mythron', 'Faerix'], dtype=object), 'count': 12},\n",
       " 'fen': {'species': array(['Mythron', 'Faerix'], dtype=object), 'count': 21},\n",
       " 'sag': {'species': array(['Mythron', 'Faerix'], dtype=object), 'count': 19},\n",
       " 'dre': {'species': array(['Emotivor', 'Sentire'], dtype=object), 'count': 24},\n",
       " 'rag': {'species': array(['Emotivor', 'Sentire'], dtype=object), 'count': 28},\n",
       " 'emp': {'species': array(['Emotivor', 'Sentire'], dtype=object), 'count': 20},\n",
       " 'anx': {'species': array(['Emotivor', 'Sentire'], dtype=object), 'count': 23},\n",
       " 'joy': {'species': array(['Sentire', 'Emotivor'], dtype=object), 'count': 20},\n",
       " 'sad': {'species': array(['Sentire', 'Emotivor'], dtype=object), 'count': 17},\n",
       " 'ang': {'species': array(['Sentire', 'Emotivor'], dtype=object), 'count': 20},\n",
       " 'eks': {'species': array(['Sentire', 'Emotivor'], dtype=object), 'count': 19},\n",
       " 'sha': {'species': array(['Sentire', 'Emotivor'], dtype=object), 'count': 22},\n",
       " 'awe': {'species': array(['Sentire', 'Emotivor'], dtype=object), 'count': 22},\n",
       " 'sho': {'species': array(['Emotivor', 'Sentire'], dtype=object), 'count': 23},\n",
       " 'fur': {'species': array(['Emotivor', 'Sentire'], dtype=object), 'count': 13},\n",
       " 'zen': {'species': array(['Emotivor', 'Sentire'], dtype=object), 'count': 20},\n",
       " 'gle': {'species': array(['Emotivor', 'Sentire'], dtype=object), 'count': 13},\n",
       " 'cal': {'species': array(['Emotivor', 'Sentire'], dtype=object), 'count': 22},\n",
       " 'luv': {'species': array(['Emotivor', 'Sentire'], dtype=object), 'count': 19},\n",
       " 'aeo': {'species': array(['Nexoon', 'Cybex'], dtype=object), 'count': 21},\n",
       " 'laz': {'species': array(['Nexoon', 'Cybex'], dtype=object), 'count': 26},\n",
       " 'tec': {'species': array(['Nexoon', 'Cybex'], dtype=object), 'count': 27},\n",
       " 'cod': {'species': array(['Nexoon', 'Cybex'], dtype=object), 'count': 17},\n",
       " 'zep': {'species': array(['Florian', 'Aquari'], dtype=object), 'count': 13},\n",
       " 'fau': {'species': array(['Florian', 'Aquari'], dtype=object), 'count': 19},\n",
       " 'fol': {'species': array(['Florian', 'Aquari'], dtype=object), 'count': 15},\n",
       " 'cir': {'species': array(['Nexoon', 'Cybex'], dtype=object), 'count': 18},\n",
       " 'dei': {'species': array(['Mythron', 'Faerix'], dtype=object), 'count': 18},\n",
       " 'gob': {'species': array(['Mythron', 'Faerix'], dtype=object), 'count': 21},\n",
       " 'tit': {'species': array(['Mythron', 'Faerix'], dtype=object), 'count': 21},\n",
       " 'see': {'species': array(['Florian', 'Aquari'], dtype=object), 'count': 14},\n",
       " 'spo': {'species': array(['Florian', 'Aquari'], dtype=object), 'count': 16},\n",
       " 'gai': {'species': array(['Aquari', 'Florian'], dtype=object), 'count': 21},\n",
       " 'nex': {'species': array(['Nexoon', 'Cybex'], dtype=object), 'count': 13},\n",
       " 'flo': {'species': array(['Florian', 'Aquari'], dtype=object), 'count': 44},\n",
       " 'bli': {'species': array(['Sentire', 'Emotivor'], dtype=object), 'count': 23},\n",
       " 'fea': {'species': array(['Sentire', 'Emotivor'], dtype=object), 'count': 22},\n",
       " 'pri': {'species': array(['Sentire', 'Emotivor'], dtype=object), 'count': 21},\n",
       " 'sta': {'species': array(['Quixnar', 'Zorblax'], dtype=object), 'count': 19},\n",
       " 'kom': {'species': array(['Quixnar', 'Zorblax'], dtype=object), 'count': 21},\n",
       " 'cel': {'species': array(['Quixnar', 'Zorblax'], dtype=object), 'count': 25},\n",
       " 'dro': {'species': array(['Cybex', 'Nexoon'], dtype=object), 'count': 19},\n",
       " 'ter': {'species': array(['Aquari', 'Florian'], dtype=object), 'count': 46},\n",
       " 'roo': {'species': array(['Aquari', 'Florian'], dtype=object), 'count': 21},\n",
       " 'pol': {'species': array(['Aquari', 'Florian'], dtype=object), 'count': 22},\n",
       " 'bea': {'species': array(['Mythron', 'Faerix'], dtype=object), 'count': 18},\n",
       " 'mag': {'species': array(['Mythron', 'Faerix'], dtype=object), 'count': 17},\n",
       " 'dis': {'species': array(['Sentire', 'Emotivor'], dtype=object), 'count': 16},\n",
       " 'orb': {'species': array(['Quixnar', 'Zorblax'], dtype=object), 'count': 23},\n",
       " 'lun': {'species': array(['Quixnar', 'Zorblax'], dtype=object), 'count': 17},\n",
       " 'ufo': {'species': array(['Quixnar', 'Zorblax'], dtype=object), 'count': 23},\n",
       " 'hol': {'species': array(['Nexoon', 'Cybex'], dtype=object), 'count': 16},\n",
       " 'pul': {'species': array(['Zorblax', 'Quixnar'], dtype=object), 'count': 40},\n",
       " 'war': {'species': array(['Zorblax', 'Quixnar'], dtype=object), 'count': 21},\n",
       " 'exc': {'species': array(['Sentire', 'Emotivor'], dtype=object), 'count': 20},\n",
       " 'tru': {'species': array(['Sentire', 'Emotivor'], dtype=object), 'count': 17},\n",
       " 'vir': {'species': array(['Nexoon', 'Cybex'], dtype=object), 'count': 23},\n",
       " 'eup': {'species': array(['Sentire', 'Emotivor'], dtype=object), 'count': 18},\n",
       " 'ast': {'species': array(['Zorblax', 'Quixnar'], dtype=object), 'count': 28},\n",
       " 'rel': {'species': array(['Mythron', 'Faerix'], dtype=object), 'count': 18},\n",
       " 'fae': {'species': array(['Mythron', 'Faerix'], dtype=object), 'count': 27},\n",
       " 'mec': {'species': array(['Cybex', 'Nexoon'], dtype=object), 'count': 19},\n",
       " 'met': {'species': array(['Zorblax', 'Quixnar'], dtype=object), 'count': 17},\n",
       " 'lea': {'species': array(['Aquari', 'Florian'], dtype=object), 'count': 20},\n",
       " 'kra': {'species': array(['Faerix', 'Mythron'], dtype=object), 'count': 13},\n",
       " 'sir': {'species': array(['Faerix', 'Mythron'], dtype=object), 'count': 29},\n",
       " 'vor': {'species': array(['Zorblax', 'Quixnar'], dtype=object), 'count': 24},\n",
       " 'uni': {'species': array(['Mythron', 'Faerix'], dtype=object), 'count': 20},\n",
       " 'cyc': {'species': array(['Mythron', 'Faerix'], dtype=object), 'count': 19},\n",
       " 'elv': {'species': array(['Mythron', 'Faerix'], dtype=object), 'count': 18},\n",
       " 'pet': {'species': array(['Aquari', 'Florian'], dtype=object), 'count': 18},\n",
       " 'avi': {'species': array(['Aquari', 'Florian'], dtype=object), 'count': 17},\n",
       " 'zor': {'species': array(['Quixnar', 'Zorblax'], dtype=object), 'count': 15},\n",
       " 'myt': {'species': array(['Faerix', 'Mythron'], dtype=object), 'count': 17},\n",
       " 'nym': {'species': array(['Mythron', 'Faerix'], dtype=object), 'count': 15},\n",
       " 'fab': {'species': array(['Faerix', 'Mythron'], dtype=object), 'count': 15},\n",
       " 'gry': {'species': array(['Faerix', 'Mythron'], dtype=object), 'count': 29},\n",
       " 'hop': {'species': array(['Emotivor', 'Sentire'], dtype=object), 'count': 19},\n",
       " 'cos': {'species': array(['Zorblax', 'Quixnar', 'Nexoon'], dtype=object),\n",
       "  'count': 26},\n",
       " 'ven': {'species': array(['Florian', 'Aquari', 'Emotivor'], dtype=object),\n",
       "  'count': 22},\n",
       " 'sor': {'species': array(['Sentire', 'Emotivor', 'Aquari'], dtype=object),\n",
       "  'count': 17},\n",
       " 'bla': {'species': array(['Quixnar', 'Zorblax', 'Mythron'], dtype=object),\n",
       "  'count': 16},\n",
       " 'cen': {'species': array(['Faerix', 'Mythron', 'Sentire'], dtype=object),\n",
       "  'count': 18},\n",
       " 'sol': {'species': array(['Zorblax', 'Aquari', 'Quixnar', 'Florian'], dtype=object),\n",
       "  'count': 46},\n",
       " 'qua': {'species': array(['Zorblax', 'Nexoon', 'Cybex', 'Quixnar'], dtype=object),\n",
       "  'count': 76},\n",
       " 'her': {'species': array(['Mythron', 'Florian', 'Faerix', 'Aquari'], dtype=object),\n",
       "  'count': 43},\n",
       " 'bio': {'species': array(['Florian', 'Nexoon', 'Aquari', 'Cybex'], dtype=object),\n",
       "  'count': 38}}"
      ]
     },
     "execution_count": 15,
     "metadata": {},
     "output_type": "execute_result"
    }
   ],
   "source": [
    "# take only the first three letters of each word in each sentence in train set\n",
    "# for each of this substring, pair it with which species has these kind of words\n",
    "\n",
    "train['message_split'] = train['message'].str.split()\n",
    "train['message_split'] = train['message_split'].apply(lambda x: [word[:3] for word in x])\n",
    "\n",
    "three_letter_words = {}\n",
    "# store word and number of occurences\n",
    "for message in train['message_split']:\n",
    "    for word in message:\n",
    "        if word in three_letter_words:\n",
    "            three_letter_words[word] += 1\n",
    "        else:\n",
    "            three_letter_words[word] = 1\n",
    "\n",
    "three_dict = {}\n",
    "for word in three_letter_words:\n",
    "    three_dict[word] = train[train['message_split'].apply(lambda x: word in x)]['species'].unique()\n",
    "\n",
    "# sort by minimum number of species\n",
    "three_dict = {k: v for k, v in sorted(three_dict.items(), key=lambda item: len(item[1]))}\n",
    "\n",
    "three_dict_with_count = {}\n",
    "for word in three_dict:\n",
    "    temp = {}\n",
    "    temp['species'] = three_dict[word]\n",
    "    temp['count'] = three_letter_words[word]\n",
    "    three_dict_with_count[word] = temp\n",
    "\n",
    "# get those with count > 5\n",
    "{k: v for k, v in three_dict_with_count.items() if v['count'] > 5}"
   ]
  },
  {
   "cell_type": "code",
   "execution_count": 26,
   "metadata": {},
   "outputs": [
    {
     "name": "stdout",
     "output_type": "stream",
     "text": [
      "{'hau': 2, 'cor': 2, 'nxb': 2, 'kkm': 2, 'sey': 2, 'ari': 2, 'vri': 2, 'feb': 2}\n"
     ]
    }
   ],
   "source": [
    "test['message_split'] = test['message'].str.split()\n",
    "test['message_split'] = test['message_split'].apply(lambda x: [word[:3] for word in x])\n",
    "\n",
    "test_words = {}\n",
    "for message in test['message_split']:\n",
    "        for word in message:\n",
    "            if word in test_words:\n",
    "                test_words[word] += 1\n",
    "            else:\n",
    "                test_words[word] = 1\n",
    "\n",
    "out_of_dict = {}\n",
    "for word in three_dict_with_count:\n",
    "    if word not in test_words and len(three_dict_with_count[word]['species']) >= 2:\n",
    "        out_of_dict[word] = three_dict_with_count[word]['count']\n",
    "\n",
    "out_of_dict = {k: v for k, v in sorted(out_of_dict.items(), key=lambda item: -item[1])}\n",
    "\n",
    "print(out_of_dict)"
   ]
  },
  {
   "cell_type": "code",
   "execution_count": 30,
   "metadata": {},
   "outputs": [
    {
     "name": "stdout",
     "output_type": "stream",
     "text": [
      "{'eol': 2, 'net': 2, 'iep': 1, 'ule': 1, 'dii': 1, 'sib': 1, 'cyf': 1, 'tri': 1, 'awm': 1, 'rcl': 1, 'cjb': 1, 'nat': 1, 'dol': 1, 'orr': 1, 'kng': 1, 'qre': 1, 'gei': 1, 'vyb': 1, 'bga': 1, 'awx': 1, 'let': 1, 'zof': 1, 'aro': 1, 'aen': 1, 'sht': 1, 'evp': 1, 'vup': 1, 'hoo': 1, 'nev': 1, 'mwr': 1, 'gre': 1, 'frn': 1, 'drw': 1, 'cur': 1, 'epv': 1, 'waz': 1, 'zez': 1, 'nea': 1, 'xwn': 1, 'elr': 1, 'rae': 1, 'lau': 1, 'tjt': 1, 'vod': 1, 'gen': 1, 'gup': 1, 'ong': 1, 'sda': 1, 'ced': 1, 'ale': 1, 'zob': 1, 'exo': 1, 'cyx': 1, 'cyu': 1, 'cez': 1, 'ngm': 1, 'jer': 1, 'aei': 1, 'wqu': 1, 'cau': 1, 'xry': 1, 'til': 1, 'far': 1, 'ubo': 1, 'jof': 1, 'qha': 1, 'weu': 1, 'srl': 1, 'goo': 1, 'srn': 1, 'zcp': 1, 'lev': 1, 'bho': 1, 'dyg': 1, 'jyn': 1, 'toc': 1, 'eos': 1, 'snx': 1, 'glv': 1, 'zef': 1, 'fui': 1, 'ate': 1, 'fam': 1, 'reg': 1, 'lva': 1, 'gko': 1, 'nyv': 1, 'reb': 1, 'tic': 1, 'loe': 1, 'mee': 1, 'kea': 1, 'meh': 1, 'fak': 1, 'upo': 1, 'bca': 1, 'tor': 1, 'zit': 1, 'sog': 1, 'cfn': 1, 'bra': 1, 'pbu': 1, 'flq': 1, 'xuv': 1, 'lig': 1, 'dio': 1, 'epc': 1, 'rfl': 1, 'ccy': 1, 'quc': 1, 'tul': 1, 'ksa': 1, 'rpi': 1, 'lmg': 1, 'nhv': 1, 'dir': 1, 'jel': 1, 'azu': 1, 'wvi': 1, 'syl': 1, 'faj': 1, 'nbb': 1, 'zoy': 1, 'xet': 1, 'sax': 1, 'gri': 1, 'xul': 1, 'ffn': 1, 'ste': 1, 'ufl': 1, 'tez': 1, 'yks': 1, 'fan': 1, 'cbl': 1, 'bha': 1, 'sye': 1, 'fah': 1, 'dli': 1, 'dot': 1, 'qca': 1, 'gul': 1}\n"
     ]
    }
   ],
   "source": [
    "not_in_train = {}\n",
    "for word in test_words:\n",
    "    if word not in three_dict_with_count:\n",
    "        not_in_train[word] = test_words[word]\n",
    "\n",
    "not_in_train = {k: v for k, v in sorted(not_in_train.items(), key=lambda item: -item[1])}\n",
    "\n",
    "print(not_in_train)"
   ]
  },
  {
   "cell_type": "code",
   "execution_count": 33,
   "metadata": {},
   "outputs": [
    {
     "data": {
      "text/html": [
       "<div>\n",
       "<style scoped>\n",
       "    .dataframe tbody tr th:only-of-type {\n",
       "        vertical-align: middle;\n",
       "    }\n",
       "\n",
       "    .dataframe tbody tr th {\n",
       "        vertical-align: top;\n",
       "    }\n",
       "\n",
       "    .dataframe thead th {\n",
       "        text-align: right;\n",
       "    }\n",
       "</style>\n",
       "<table border=\"1\" class=\"dataframe\">\n",
       "  <thead>\n",
       "    <tr style=\"text-align: right;\">\n",
       "      <th></th>\n",
       "      <th>species</th>\n",
       "    </tr>\n",
       "  </thead>\n",
       "  <tbody>\n",
       "    <tr>\n",
       "      <th>0</th>\n",
       "      <td>Aquari</td>\n",
       "    </tr>\n",
       "    <tr>\n",
       "      <th>1</th>\n",
       "      <td>Sentire</td>\n",
       "    </tr>\n",
       "    <tr>\n",
       "      <th>2</th>\n",
       "      <td>Florian</td>\n",
       "    </tr>\n",
       "    <tr>\n",
       "      <th>3</th>\n",
       "      <td>Mythron</td>\n",
       "    </tr>\n",
       "    <tr>\n",
       "      <th>4</th>\n",
       "      <td>Mythron</td>\n",
       "    </tr>\n",
       "  </tbody>\n",
       "</table>\n",
       "</div>"
      ],
      "text/plain": [
       "   species\n",
       "0   Aquari\n",
       "1  Sentire\n",
       "2  Florian\n",
       "3  Mythron\n",
       "4  Mythron"
      ]
     },
     "execution_count": 33,
     "metadata": {},
     "output_type": "execute_result"
    }
   ],
   "source": [
    "results = pd.read_csv(\"result.csv\")\n",
    "\n",
    "results.head()"
   ]
  },
  {
   "cell_type": "code",
   "execution_count": 36,
   "metadata": {},
   "outputs": [
    {
     "data": {
      "image/png": "[encoded data removed]",
      "text/plain": [
       "<Figure size 1500x500 with 2 Axes>"
      ]
     },
     "metadata": {},
     "output_type": "display_data"
    }
   ],
   "source": [
    "# plot species counts in train and results\n",
    "species_counts = train['species'].value_counts()\n",
    "species_counts = species_counts.reset_index()\n",
    "species_counts.columns = ['species', 'count']\n",
    "species_counts = species_counts.sort_values(by='species')\n",
    "\n",
    "results_counts = results['species'].value_counts()\n",
    "results_counts = results_counts.reset_index()\n",
    "results_counts.columns = ['species', 'count']\n",
    "results_counts = results_counts.sort_values(by='species')\n",
    "\n",
    "fig, ax = plt.subplots(1, 2, figsize=(15, 5))\n",
    "sns.barplot(x='species', y='count', data=species_counts, ax=ax[0])\n",
    "ax[0].set_title('Train set')\n",
    "sns.barplot(x='species', y='count', data=results_counts, ax=ax[1])\n",
    "ax[1].set_title('Results')\n",
    "ax[1].set_ylim(ax[0].get_ylim())\n",
    "plt.show()"
   ]
  },
  {
   "cell_type": "code",
   "execution_count": 38,
   "metadata": {},
   "outputs": [
    {
     "data": {
      "image/png": "[encoded data removed]",
      "text/plain": [
       "<Figure size 1500x500 with 2 Axes>"
      ]
     },
     "metadata": {},
     "output_type": "display_data"
    }
   ],
   "source": [
    "# create barplots with ratio of species in train and results\n",
    "species_counts['ratio'] = species_counts['count'] / species_counts['count'].sum()\n",
    "results_counts['ratio'] = results_counts['count'] / results_counts['count'].sum()\n",
    "\n",
    "fig, ax = plt.subplots(1, 2, figsize=(15, 5))\n",
    "sns.barplot(x='species', y='ratio', data=species_counts, ax=ax[0])\n",
    "ax[0].set_title('Train set')\n",
    "sns.barplot(x='species', y='ratio', data=results_counts, ax=ax[1])\n",
    "ax[1].set_title('Results')\n",
    "ax[0].set_ylim(ax[1].get_ylim())\n",
    "plt.show()"
   ]
  },
  {
   "cell_type": "code",
   "execution_count": 40,
   "metadata": {},
   "outputs": [
    {
     "data": {
      "text/plain": [
       "0.13336454849498322"
      ]
     },
     "execution_count": 40,
     "metadata": {},
     "output_type": "execute_result"
    }
   ],
   "source": [
    "# calculate sum of absolute difference between ratios of species in train and results\n",
    "summed_value = np.abs(species_counts['ratio'] - results_counts['ratio']).sum()\n",
    "\n",
    "summed_value"
   ]
  },
  {
   "cell_type": "code",
   "execution_count": null,
   "metadata": {},
   "outputs": [],
   "source": []
  }
 ],
 "metadata": {
  "kernelspec": {
   "display_name": "image_gen",
   "language": "python",
   "name": "python3"
  },
  "language_info": {
   "codemirror_mode": {
    "name": "ipython",
    "version": 3
   },
   "file_extension": ".py",
   "mimetype": "text/x-python",
   "name": "python",
   "nbconvert_exporter": "python",
   "pygments_lexer": "ipython3",
   "version": "3.9.18"
  }
 },
 "nbformat": 4,
 "nbformat_minor": 2
}
