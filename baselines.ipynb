{
 "cells": [
  {
   "cell_type": "code",
   "execution_count": 18,
   "metadata": {},
   "outputs": [
    {
     "data": {
      "text/html": [
       "<div>\n",
       "<style scoped>\n",
       "    .dataframe tbody tr th:only-of-type {\n",
       "        vertical-align: middle;\n",
       "    }\n",
       "\n",
       "    .dataframe tbody tr th {\n",
       "        vertical-align: top;\n",
       "    }\n",
       "\n",
       "    .dataframe thead th {\n",
       "        text-align: right;\n",
       "    }\n",
       "</style>\n",
       "<table border=\"1\" class=\"dataframe\">\n",
       "  <thead>\n",
       "    <tr style=\"text-align: right;\">\n",
       "      <th></th>\n",
       "      <th>message</th>\n",
       "      <th>fingers</th>\n",
       "      <th>tail</th>\n",
       "      <th>species</th>\n",
       "    </tr>\n",
       "  </thead>\n",
       "  <tbody>\n",
       "    <tr>\n",
       "      <th>0</th>\n",
       "      <td>pluvia arbor aquos</td>\n",
       "      <td>4</td>\n",
       "      <td>no</td>\n",
       "      <td>Aquari</td>\n",
       "    </tr>\n",
       "    <tr>\n",
       "      <th>1</th>\n",
       "      <td>cosmix xeno nebuz odbitaz</td>\n",
       "      <td>5</td>\n",
       "      <td>yes</td>\n",
       "      <td>Zorblax</td>\n",
       "    </tr>\n",
       "    <tr>\n",
       "      <th>2</th>\n",
       "      <td>solarix glixx novum galaxum quasar</td>\n",
       "      <td>5</td>\n",
       "      <td>yes</td>\n",
       "      <td>Zorblax</td>\n",
       "    </tr>\n",
       "    <tr>\n",
       "      <th>3</th>\n",
       "      <td>arbor insectus pesros ekos dootix nimbus</td>\n",
       "      <td>2</td>\n",
       "      <td>yes</td>\n",
       "      <td>Florian</td>\n",
       "    </tr>\n",
       "    <tr>\n",
       "      <th>4</th>\n",
       "      <td>mermax drakos lorix epikoz deftax</td>\n",
       "      <td>4</td>\n",
       "      <td>no</td>\n",
       "      <td>Faerix</td>\n",
       "    </tr>\n",
       "  </tbody>\n",
       "</table>\n",
       "</div>"
      ],
      "text/plain": [
       "                                    message  fingers tail  species\n",
       "0                        pluvia arbor aquos        4   no   Aquari\n",
       "1                 cosmix xeno nebuz odbitaz        5  yes  Zorblax\n",
       "2        solarix glixx novum galaxum quasar        5  yes  Zorblax\n",
       "3  arbor insectus pesros ekos dootix nimbus        2  yes  Florian\n",
       "4         mermax drakos lorix epikoz deftax        4   no   Faerix"
      ]
     },
     "execution_count": 18,
     "metadata": {},
     "output_type": "execute_result"
    }
   ],
   "source": [
    "import pandas as pd\n",
    "import seaborn as sns\n",
    "import matplotlib.pyplot as plt\n",
    "import numpy as np\n",
    "\n",
    "FILE = 'data.csv'\n",
    "df = pd.read_csv(FILE)\n",
    "\n",
    "df.head()"
   ]
  },
  {
   "cell_type": "code",
   "execution_count": 19,
   "metadata": {},
   "outputs": [],
   "source": [
    "from sklearn.pipeline import Pipeline\n",
    "from sklearn.feature_extraction.text import TfidfVectorizer\n",
    "from sklearn.preprocessing import StandardScaler, LabelEncoder, OneHotEncoder\n",
    "from sklearn.ensemble import RandomForestClassifier\n",
    "from sklearn.model_selection import train_test_split\n",
    "from sklearn.compose import ColumnTransformer\n",
    "\n",
    "from sklearn.base import TransformerMixin, BaseEstimator\n",
    "\n",
    "# Custom transformer to take the first 3 letters of each word in the message\n",
    "class TruncateWordsTransformer(BaseEstimator, TransformerMixin):\n",
    "    def fit(self, X, y=None):\n",
    "        return self\n",
    "\n",
    "    def transform(self, X):\n",
    "        # Apply transformation: Split by space, take first 3 letters of each word, rejoin\n",
    "        # return [' '.join([word[:3] for word in sentence.split()]) for sentence in X]\n",
    "        return X\n",
    "\n",
    "# Encode species labels\n",
    "le = LabelEncoder()\n",
    "df['species'] = le.fit_transform(df['species'])\n",
    "\n",
    "# combine the yes no into preprocessor\n",
    "preprocessor = ColumnTransformer(\n",
    "    transformers=[\n",
    "        ('message_transform', Pipeline([\n",
    "            ('truncate_words', TruncateWordsTransformer()),  # Custom word truncation\n",
    "            ('tfidf', TfidfVectorizer())  # Apply TF-IDF after truncation\n",
    "        ]), 'message'),\n",
    "        ('fingers_scaler', StandardScaler(), ['fingers']),  # Standardize the \"fingers\" numeric feature\n",
    "        ('tail_encoder', OneHotEncoder(), ['tail'])  # One-hot encode the \"tail\" binary/categorical feature\n",
    "    ]\n",
    ")\n",
    "\n",
    "# Full pipeline including model\n",
    "pipeline = Pipeline(steps=[\n",
    "    ('preprocessor', preprocessor),\n",
    "    ('classifier', RandomForestClassifier(n_estimators=20, random_state=42))\n",
    "])\n",
    "\n",
    "# Train-test split\n",
    "X_train, X_test, y_train, y_test = train_test_split(df[['message', 'fingers', 'tail']], df['species'], test_size=0.2, random_state=42, stratify=df['species'])\n",
    "\n",
    "# Train the model\n",
    "pipeline.fit(X_train, y_train)\n",
    "\n",
    "# Predictions\n",
    "predictions = pipeline.predict(X_test)"
   ]
  },
  {
   "cell_type": "code",
   "execution_count": 20,
   "metadata": {},
   "outputs": [
    {
     "name": "stdout",
     "output_type": "stream",
     "text": [
      "              precision    recall  f1-score   support\n",
      "\n",
      "           0       0.75      1.00      0.86         9\n",
      "           1       0.88      0.64      0.74        11\n",
      "           2       0.83      0.91      0.87        11\n",
      "           3       0.78      0.78      0.78         9\n",
      "           4       0.89      0.80      0.84        10\n",
      "           5       0.80      0.80      0.80        10\n",
      "           6       0.80      0.89      0.84         9\n",
      "           7       0.65      0.92      0.76        12\n",
      "           8       0.88      0.78      0.82         9\n",
      "           9       0.80      0.40      0.53        10\n",
      "\n",
      "    accuracy                           0.79       100\n",
      "   macro avg       0.80      0.79      0.78       100\n",
      "weighted avg       0.80      0.79      0.78       100\n",
      "\n",
      "[[ 9  0  0  0  0  0  0  0  0  0]\n",
      " [ 1  7  0  0  1  0  2  0  0  0]\n",
      " [ 0  0 10  0  0  0  0  0  1  0]\n",
      " [ 0  0  0  7  0  2  0  0  0  0]\n",
      " [ 2  0  0  0  8  0  0  0  0  0]\n",
      " [ 0  0  0  2  0  8  0  0  0  0]\n",
      " [ 0  1  0  0  0  0  8  0  0  0]\n",
      " [ 0  0  0  0  0  0  0 11  0  1]\n",
      " [ 0  0  2  0  0  0  0  0  7  0]\n",
      " [ 0  0  0  0  0  0  0  6  0  4]]\n"
     ]
    }
   ],
   "source": [
    "from sklearn.metrics import classification_report, confusion_matrix\n",
    "\n",
    "print(classification_report(y_test, predictions))\n",
    "print(confusion_matrix(y_test, predictions))"
   ]
  },
  {
   "cell_type": "code",
   "execution_count": 21,
   "metadata": {},
   "outputs": [
    {
     "name": "stdout",
     "output_type": "stream",
     "text": [
      "Fitting 3 folds for each of 24 candidates, totalling 72 fits\n",
      "              precision    recall  f1-score   support\n",
      "\n",
      "           0       0.89      0.89      0.89         9\n",
      "           1       0.90      0.82      0.86        11\n",
      "           2       0.83      0.91      0.87        11\n",
      "           3       0.88      0.78      0.82         9\n",
      "           4       0.90      0.90      0.90        10\n",
      "           5       0.82      0.90      0.86        10\n",
      "           6       0.80      0.89      0.84         9\n",
      "           7       0.65      0.92      0.76        12\n",
      "           8       0.88      0.78      0.82         9\n",
      "           9       0.80      0.40      0.53        10\n",
      "\n",
      "    accuracy                           0.82       100\n",
      "   macro avg       0.83      0.82      0.82       100\n",
      "weighted avg       0.83      0.82      0.81       100\n",
      "\n",
      "{'classifier__max_depth': 50, 'classifier__max_features': 'log2', 'classifier__n_estimators': 250}\n"
     ]
    }
   ],
   "source": [
    "from sklearn.model_selection import GridSearchCV\n",
    "\n",
    "# Define the parameter grid to search over\n",
    "param_grid = {\n",
    "    'classifier__n_estimators': [100, 200, 250],  # Trying different numbers of estimators\n",
    "    'classifier__max_depth': [5, 10, 20, 50],  # Trying different max depths\n",
    "    'classifier__max_features': ['sqrt', 'log2']  # Trying different numbers of features per split'\n",
    "}\n",
    "\n",
    "# Set up GridSearchCV with the pipeline and parameter grid\n",
    "grid_search = GridSearchCV(pipeline, param_grid, cv=3, verbose=1)\n",
    "\n",
    "# Train the model using grid search\n",
    "grid_search.fit(X_train, y_train)\n",
    "\n",
    "# Get the best parameters and model\n",
    "best_model = grid_search.best_estimator_\n",
    "\n",
    "# Make predictions using the best model\n",
    "best_predictions = best_model.predict(X_test)\n",
    "\n",
    "# Print the classification report\n",
    "print(classification_report(y_test, best_predictions))\n",
    "\n",
    "print(grid_search.best_params_)"
   ]
  },
  {
   "cell_type": "code",
   "execution_count": 24,
   "metadata": {},
   "outputs": [
    {
     "name": "stdout",
     "output_type": "stream",
     "text": [
      "Mean accuracy: 0.7760503090205132\n",
      "Min accuracy: 0.7604790419161677\n",
      "Max accuracy: 0.8012048192771084\n"
     ]
    }
   ],
   "source": [
    "# perform cross validation on the best model\n",
    "from sklearn.model_selection import cross_val_score\n",
    "\n",
    "# Perform 5-fold cross validation\n",
    "scores = cross_val_score(best_model, df[['message', 'fingers', 'tail']], df['species'], cv=3)\n",
    "\n",
    "# Print the mean, min, and max scores\n",
    "print('Mean accuracy:', np.mean(scores))\n",
    "print('Min accuracy:', np.min(scores))\n",
    "print('Max accuracy:', np.max(scores))"
   ]
  },
  {
   "cell_type": "code",
   "execution_count": 27,
   "metadata": {},
   "outputs": [
    {
     "data": {
      "image/png": "[encoded data removed]",
      "text/plain": [
       "<Figure size 1500x500 with 2 Axes>"
      ]
     },
     "metadata": {},
     "output_type": "display_data"
    }
   ],
   "source": [
    "# test df\n",
    "test = pd.read_csv('test.csv')\n",
    "\n",
    "# Make predictions on the test set\n",
    "test_predictions = best_model.predict(test[['message', 'fingers', 'tail']])\n",
    "\n",
    "test_predictions = le.inverse_transform(test_predictions)\n",
    "\n",
    "results = pd.DataFrame({'species': test_predictions})\n",
    "\n",
    "train_species_df = pd.DataFrame({'species': le.inverse_transform(df['species'])})\n",
    "\n",
    "species_counts = train_species_df['species'].value_counts()\n",
    "species_counts = species_counts.reset_index()\n",
    "species_counts.columns = ['species', 'count']\n",
    "species_counts = species_counts.sort_values(by='species')\n",
    "\n",
    "results_counts = results['species'].value_counts()\n",
    "results_counts = results_counts.reset_index()\n",
    "results_counts.columns = ['species', 'count']\n",
    "results_counts = results_counts.sort_values(by='species')\n",
    "\n",
    "fig, ax = plt.subplots(1, 2, figsize=(15, 5))\n",
    "sns.barplot(x='species', y='count', data=species_counts, ax=ax[0])\n",
    "ax[0].set_title('Train set')\n",
    "sns.barplot(x='species', y='count', data=results_counts, ax=ax[1])\n",
    "ax[1].set_title('Results')\n",
    "ax[1].set_ylim(ax[0].get_ylim())\n",
    "plt.show()"
   ]
  },
  {
   "cell_type": "code",
   "execution_count": 28,
   "metadata": {},
   "outputs": [
    {
     "data": {
      "image/png": "[encoded data removed]",
      "text/plain": [
       "<Figure size 1500x500 with 2 Axes>"
      ]
     },
     "metadata": {},
     "output_type": "display_data"
    }
   ],
   "source": [
    "species_counts['ratio'] = species_counts['count'] / species_counts['count'].sum()\n",
    "results_counts['ratio'] = results_counts['count'] / results_counts['count'].sum()\n",
    "\n",
    "fig, ax = plt.subplots(1, 2, figsize=(15, 5))\n",
    "sns.barplot(x='species', y='ratio', data=species_counts, ax=ax[0])\n",
    "ax[0].set_title('Train set')\n",
    "sns.barplot(x='species', y='ratio', data=results_counts, ax=ax[1])\n",
    "ax[1].set_title('Results')\n",
    "ax[0].set_ylim(ax[1].get_ylim())\n",
    "plt.show()"
   ]
  },
  {
   "cell_type": "code",
   "execution_count": 29,
   "metadata": {},
   "outputs": [
    {
     "data": {
      "text/plain": [
       "0.1534314381270903"
      ]
     },
     "execution_count": 29,
     "metadata": {},
     "output_type": "execute_result"
    }
   ],
   "source": [
    "summed_value = np.abs(species_counts['ratio'] - results_counts['ratio']).sum()\n",
    "\n",
    "summed_value"
   ]
  },
  {
   "cell_type": "code",
   "execution_count": 21,
   "metadata": {},
   "outputs": [],
   "source": [
    "import xgboost as xgb\n",
    "\n",
    "# new pipeline with xgboost\n",
    "pipeline_xgb = Pipeline(steps=[\n",
    "    ('preprocessor', preprocessor),\n",
    "    ('classifier', xgb.XGBClassifier(n_estimators=100, eval_metric='mlogloss'))\n",
    "])\n",
    "\n",
    "# Train the model\n",
    "pipeline_xgb.fit(X_train, y_train)\n",
    "\n",
    "# Predictions\n",
    "predictions_xgb = pipeline_xgb.predict(X_test)"
   ]
  },
  {
   "cell_type": "code",
   "execution_count": 22,
   "metadata": {},
   "outputs": [
    {
     "name": "stdout",
     "output_type": "stream",
     "text": [
      "              precision    recall  f1-score   support\n",
      "\n",
      "           0       0.78      0.78      0.78         9\n",
      "           1       0.83      0.91      0.87        11\n",
      "           2       0.92      1.00      0.96        11\n",
      "           3       0.50      0.67      0.57         9\n",
      "           4       0.88      0.70      0.78        10\n",
      "           5       0.75      0.60      0.67        10\n",
      "           6       0.73      0.89      0.80         9\n",
      "           7       0.77      0.83      0.80        12\n",
      "           8       1.00      0.67      0.80         9\n",
      "           9       0.78      0.70      0.74        10\n",
      "\n",
      "    accuracy                           0.78       100\n",
      "   macro avg       0.79      0.77      0.78       100\n",
      "weighted avg       0.80      0.78      0.78       100\n",
      "\n"
     ]
    }
   ],
   "source": [
    "print(classification_report(y_test, predictions_xgb))"
   ]
  },
  {
   "cell_type": "code",
   "execution_count": 23,
   "metadata": {},
   "outputs": [
    {
     "name": "stdout",
     "output_type": "stream",
     "text": [
      "Fitting 3 folds for each of 36 candidates, totalling 108 fits\n",
      "              precision    recall  f1-score   support\n",
      "\n",
      "           0       0.70      0.78      0.74         9\n",
      "           1       0.90      0.82      0.86        11\n",
      "           2       0.79      1.00      0.88        11\n",
      "           3       0.50      0.67      0.57         9\n",
      "           4       0.88      0.70      0.78        10\n",
      "           5       0.75      0.60      0.67        10\n",
      "           6       0.80      0.89      0.84         9\n",
      "           7       0.77      0.83      0.80        12\n",
      "           8       1.00      0.67      0.80         9\n",
      "           9       0.78      0.70      0.74        10\n",
      "\n",
      "    accuracy                           0.77       100\n",
      "   macro avg       0.79      0.77      0.77       100\n",
      "weighted avg       0.79      0.77      0.77       100\n",
      "\n",
      "Best hyperparameters: {'classifier__learning_rate': 0.1, 'classifier__max_depth': 5, 'classifier__n_estimators': 250}\n"
     ]
    }
   ],
   "source": [
    "# grid search on hyperparameters\n",
    "param_grid_xgb = {\n",
    "    'classifier__n_estimators': [100, 200, 250],\n",
    "    'classifier__max_depth': [3, 4, 5, None],\n",
    "    'classifier__learning_rate': [0.1, 0.01, 0.001],\n",
    "}\n",
    "\n",
    "grid_search_xgb = GridSearchCV(pipeline_xgb, param_grid_xgb, cv=3, verbose=1)\n",
    "grid_search_xgb.fit(X_train, y_train)\n",
    "\n",
    "best_model_xgb = grid_search_xgb.best_estimator_\n",
    "\n",
    "best_predictions_xgb = best_model_xgb.predict(X_test)\n",
    "\n",
    "print(classification_report(y_test, best_predictions_xgb))\n",
    "\n",
    "# print the best hyperparameters\n",
    "print(\"Best hyperparameters:\", grid_search_xgb.best_params_)"
   ]
  },
  {
   "cell_type": "code",
   "execution_count": 25,
   "metadata": {},
   "outputs": [
    {
     "name": "stdout",
     "output_type": "stream",
     "text": [
      "Mean cross-validation score: 0.7020056272996177\n"
     ]
    }
   ],
   "source": [
    "scores_xgb = cross_val_score(best_model_xgb, df[['message', 'fingers', 'tail']], df['species'], cv=3)\n",
    "\n",
    "print(\"Mean cross-validation score:\", np.mean(scores_xgb))"
   ]
  },
  {
   "cell_type": "code",
   "execution_count": 89,
   "metadata": {},
   "outputs": [],
   "source": [
    "# bagging classifier\n",
    "from sklearn.ensemble import BaggingClassifier\n",
    "\n",
    "pipeline_bag = Pipeline(steps=[\n",
    "    ('preprocessor', preprocessor),\n",
    "    ('classifier', BaggingClassifier(n_estimators=100))\n",
    "])\n",
    "\n",
    "# Train the model\n",
    "pipeline_bag.fit(X_train, y_train)\n",
    "\n",
    "# Predictions\n",
    "predictions_bag = pipeline_bag.predict(X_test)"
   ]
  },
  {
   "cell_type": "code",
   "execution_count": 90,
   "metadata": {},
   "outputs": [
    {
     "name": "stdout",
     "output_type": "stream",
     "text": [
      "              precision    recall  f1-score   support\n",
      "\n",
      "           0       0.80      1.00      0.89         4\n",
      "           1       0.86      1.00      0.92        12\n",
      "           2       0.89      1.00      0.94         8\n",
      "           3       0.86      0.43      0.57        14\n",
      "           4       0.70      0.78      0.74         9\n",
      "           5       0.82      0.90      0.86        10\n",
      "           6       1.00      0.71      0.83         7\n",
      "           7       0.53      0.71      0.61        14\n",
      "           8       1.00      0.89      0.94         9\n",
      "           9       0.83      0.77      0.80        13\n",
      "\n",
      "    accuracy                           0.79       100\n",
      "   macro avg       0.83      0.82      0.81       100\n",
      "weighted avg       0.81      0.79      0.79       100\n",
      "\n"
     ]
    }
   ],
   "source": [
    "print(classification_report(y_test, predictions_bag))"
   ]
  },
  {
   "cell_type": "code",
   "execution_count": 91,
   "metadata": {},
   "outputs": [
    {
     "name": "stdout",
     "output_type": "stream",
     "text": [
      "Mean cross-validation score: 0.7140000000000001\n"
     ]
    }
   ],
   "source": [
    "# cross validation\n",
    "scores_bag = cross_val_score(pipeline_bag, df[['message', 'fingers', 'tail']], df['species'], cv=5)\n",
    "\n",
    "print(\"Mean cross-validation score:\", np.mean(scores_bag))"
   ]
  }
 ],
 "metadata": {
  "kernelspec": {
   "display_name": "image_gen",
   "language": "python",
   "name": "python3"
  },
  "language_info": {
   "codemirror_mode": {
    "name": "ipython",
    "version": 3
   },
   "file_extension": ".py",
   "mimetype": "text/x-python",
   "name": "python",
   "nbconvert_exporter": "python",
   "pygments_lexer": "ipython3",
   "version": "3.9.18"
  }
 },
 "nbformat": 4,
 "nbformat_minor": 2
}
